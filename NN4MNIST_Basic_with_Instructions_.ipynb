{
  "metadata": {
    "kernelspec": {
      "language": "python",
      "display_name": "Python 3",
      "name": "python3"
    },
    "language_info": {
      "name": "python",
      "version": "3.10.12",
      "mimetype": "text/x-python",
      "codemirror_mode": {
        "name": "ipython",
        "version": 3
      },
      "pygments_lexer": "ipython3",
      "nbconvert_exporter": "python",
      "file_extension": ".py"
    },
    "kaggle": {
      "accelerator": "none",
      "dataSources": [
        {
          "sourceId": 3004,
          "databundleVersionId": 861823,
          "sourceType": "competition"
        },
        {
          "sourceId": 140376581,
          "sourceType": "kernelVersion"
        }
      ],
      "dockerImageVersionId": 30918,
      "isInternetEnabled": false,
      "language": "python",
      "sourceType": "notebook",
      "isGpuEnabled": false
    },
    "colab": {
      "name": "NN4MNIST_Basic_with_Instructions_",
      "provenance": [],
      "include_colab_link": true
    }
  },
  "nbformat_minor": 0,
  "nbformat": 4,
  "cells": [
    {
      "cell_type": "markdown",
      "metadata": {
        "id": "view-in-github",
        "colab_type": "text"
      },
      "source": [
        "<a href=\"https://colab.research.google.com/github/cbandrowski/CSC467_Mod4/blob/main/NN4MNIST_Basic_with_Instructions_.ipynb\" target=\"_parent\"><img src=\"https://colab.research.google.com/assets/colab-badge.svg\" alt=\"Open In Colab\"/></a>"
      ]
    },
    {
      "source": [
        "# IMPORTANT: SOME KAGGLE DATA SOURCES ARE PRIVATE\n",
        "# RUN THIS CELL IN ORDER TO IMPORT YOUR KAGGLE DATA SOURCES.\n",
        "import kagglehub\n",
        "kagglehub.login()\n"
      ],
      "metadata": {
        "id": "f-Eu9MEsry2x"
      },
      "cell_type": "code",
      "outputs": [],
      "execution_count": null
    },
    {
      "source": [
        "# IMPORTANT: RUN THIS CELL IN ORDER TO IMPORT YOUR KAGGLE DATA SOURCES,\n",
        "# THEN FEEL FREE TO DELETE THIS CELL.\n",
        "# NOTE: THIS NOTEBOOK ENVIRONMENT DIFFERS FROM KAGGLE'S PYTHON\n",
        "# ENVIRONMENT SO THERE MAY BE MISSING LIBRARIES USED BY YOUR\n",
        "# NOTEBOOK.\n",
        "\n",
        "digit_recognizer_path = kagglehub.competition_download('digit-recognizer')\n",
        "farzadnekouei_cifar_10_image_classification_with_cnn_path = kagglehub.notebook_output_download('farzadnekouei/cifar-10-image-classification-with-cnn')\n",
        "\n",
        "print('Data source import complete.')\n"
      ],
      "metadata": {
        "id": "sm2092YAry2z"
      },
      "cell_type": "code",
      "outputs": [],
      "execution_count": null
    },
    {
      "cell_type": "markdown",
      "source": [
        "Taking Input"
      ],
      "metadata": {
        "id": "iSXGkwjPry2z"
      }
    },
    {
      "cell_type": "code",
      "source": [
        "\n",
        "import os\n",
        "path = os.listdir(\"../input\")\n",
        "print(path)"
      ],
      "metadata": {
        "trusted": true,
        "execution": {
          "iopub.status.busy": "2025-04-11T21:06:38.018374Z",
          "iopub.execute_input": "2025-04-11T21:06:38.018821Z",
          "iopub.status.idle": "2025-04-11T21:06:38.024984Z",
          "shell.execute_reply.started": "2025-04-11T21:06:38.018783Z",
          "shell.execute_reply": "2025-04-11T21:06:38.023859Z"
        },
        "id": "MZMmIA7Cry20"
      },
      "outputs": [],
      "execution_count": null
    },
    {
      "cell_type": "markdown",
      "source": [
        "Accuracy and loss plots"
      ],
      "metadata": {
        "id": "ha-SAr0hry20"
      }
    },
    {
      "cell_type": "code",
      "source": [
        "import numpy as np\n",
        "import pandas as pd\n",
        "from matplotlib import pyplot as plt\n",
        "\n",
        "train_data = pd.read_csv('/kaggle/input/digit-recognizer/train.csv')\n",
        "\n",
        "test_data = pd.read_csv('/kaggle/input/digit-recognizer/test.csv')"
      ],
      "metadata": {
        "trusted": true,
        "execution": {
          "iopub.status.busy": "2025-04-11T21:06:38.026314Z",
          "iopub.execute_input": "2025-04-11T21:06:38.026732Z",
          "iopub.status.idle": "2025-04-11T21:06:42.319507Z",
          "shell.execute_reply.started": "2025-04-11T21:06:38.026699Z",
          "shell.execute_reply": "2025-04-11T21:06:42.318312Z"
        },
        "id": "L9D5rY4xry20"
      },
      "outputs": [],
      "execution_count": null
    },
    {
      "cell_type": "markdown",
      "source": [
        "Code Block"
      ],
      "metadata": {
        "id": "adCk0znNry20"
      }
    },
    {
      "cell_type": "code",
      "source": [
        "data_dev = np.array(test_data)\n",
        "m, n = data_dev.shape\n",
        "data_dev =data_dev.T\n",
        "X_dev = data_dev[0:n]\n",
        "X_dev = X_dev / 255.0\n",
        "\n",
        "data_train = np.array(train_data)\n",
        "m, n = data_train.shape\n",
        "data_train = data_train.T\n",
        "Y_train = data_train[0]\n",
        "Y_dev = Y_train\n",
        "X_train = data_train[1:n]\n",
        "X_train = X_train / 255.0\n",
        "_,m_train = X_train.shape"
      ],
      "metadata": {
        "trusted": true,
        "execution": {
          "iopub.status.busy": "2025-04-11T21:06:42.321847Z",
          "iopub.execute_input": "2025-04-11T21:06:42.322287Z",
          "iopub.status.idle": "2025-04-11T21:06:42.780113Z",
          "shell.execute_reply.started": "2025-04-11T21:06:42.322247Z",
          "shell.execute_reply": "2025-04-11T21:06:42.778317Z"
        },
        "id": "1XohpnWKry20"
      },
      "outputs": [],
      "execution_count": null
    },
    {
      "cell_type": "markdown",
      "source": [
        "Code Block"
      ],
      "metadata": {
        "id": "8UO9khixry20"
      }
    },
    {
      "cell_type": "code",
      "source": [
        "Y_train"
      ],
      "metadata": {
        "trusted": true,
        "execution": {
          "iopub.status.busy": "2025-04-11T21:06:42.781709Z",
          "iopub.execute_input": "2025-04-11T21:06:42.782012Z",
          "iopub.status.idle": "2025-04-11T21:06:42.789403Z",
          "shell.execute_reply.started": "2025-04-11T21:06:42.781984Z",
          "shell.execute_reply": "2025-04-11T21:06:42.787926Z"
        },
        "id": "y6Qr6R4ary21"
      },
      "outputs": [],
      "execution_count": null
    },
    {
      "cell_type": "markdown",
      "source": [
        "block defines the function to convert labels to one-hot format"
      ],
      "metadata": {
        "id": "4HmHzGLzry21"
      }
    },
    {
      "cell_type": "code",
      "source": [
        "def init_params():\n",
        "    W1 = np.random.rand(16, 784) - 0.5\n",
        "    b1 = np.random.rand(16, 1) - 0.5\n",
        "    W2 = np.random.rand(10, 16) - 0.5\n",
        "    b2 = np.random.rand(10, 1) - 0.5\n",
        "    return W1, b1, W2, b2\n",
        "\n",
        "def sigmoid(Z):\n",
        "    return 1/(1+np.exp(-Z))\n",
        "\n",
        "def ReLU(Z):\n",
        "    Z[Z<0]=0\n",
        "    return Z\n",
        "\n",
        "def softmax(Z):\n",
        "    A = np.exp(Z) / sum(np.exp(Z))\n",
        "    return A\n",
        "\n",
        "def forward_prop(W1, b1, W2, b2, X):\n",
        "    Z1 = W1.dot(X) + b1\n",
        "    A1 = ReLU(Z1)\n",
        "    Z2 = W2.dot(A1) + b2\n",
        "    A2 = sigmoid(Z2)\n",
        "    return Z1, A1, Z2, A2\n",
        "\n",
        "def ReLU_deriv(Z):\n",
        "    return Z > 0\n",
        "\n",
        "def one_hot(Y):\n",
        "    one_hot_Y = np.zeros((Y.size, Y.max() + 1))\n",
        "    one_hot_Y[np.arange(Y.size), Y] = 1\n",
        "    one_hot_Y = one_hot_Y.T\n",
        "    return one_hot_Y\n",
        "\n",
        "def backward_prop(Z1, A1, Z2, A2, W1, W2, X, Y):\n",
        "    one_hot_Y = one_hot(Y)\n",
        "    dZ2 = A2 - one_hot_Y\n",
        "    dW2 = 1 / m * dZ2.dot(A1.T)\n",
        "    db2 = 1 / m * np.sum(dZ2)\n",
        "    dZ1 = W2.T.dot(dZ2) * ReLU_deriv(Z1)\n",
        "    dW1 = 1 / m * dZ1.dot(X.T)\n",
        "    db1 = 1 / m * np.sum(dZ1)\n",
        "    return dW1, db1, dW2, db2\n",
        "\n",
        "def update_params(W1, b1, W2, b2, dW1, db1, dW2, db2, alpha):\n",
        "    W1 = W1 - alpha * dW1\n",
        "    b1 = b1 - alpha * db1\n",
        "    W2 = W2 - alpha * dW2\n",
        "    b2 = b2 - alpha * db2\n",
        "    return W1, b1, W2, b2"
      ],
      "metadata": {
        "trusted": true,
        "execution": {
          "iopub.status.busy": "2025-04-11T21:06:42.790702Z",
          "iopub.execute_input": "2025-04-11T21:06:42.791105Z",
          "iopub.status.idle": "2025-04-11T21:06:42.81134Z",
          "shell.execute_reply.started": "2025-04-11T21:06:42.791065Z",
          "shell.execute_reply": "2025-04-11T21:06:42.810123Z"
        },
        "id": "yMPhfOuyry21"
      },
      "outputs": [],
      "execution_count": null
    },
    {
      "cell_type": "markdown",
      "source": [
        "This block performs forward propagation. You will edit this later to change the activation function for the output layer."
      ],
      "metadata": {
        "id": "UWlYbs1Ury21"
      }
    },
    {
      "cell_type": "code",
      "source": [
        "def get_predictions(A2):\n",
        "    return np.argmax(A2, 0)\n",
        "\n",
        "def get_accuracy(predictions, Y):\n",
        "    print(predictions, Y)\n",
        "    return np.sum(predictions == Y) / Y.size\n",
        "\n",
        "def gradient_descent(X, Y, alpha, iterations):\n",
        "    W1, b1, W2, b2 = init_params()\n",
        "    for i in range(iterations):\n",
        "        Z1, A1, Z2, A2 = forward_prop(W1, b1, W2, b2, X)\n",
        "        dW1, db1, dW2, db2 = backward_prop(Z1, A1, Z2, A2, W1, W2, X, Y)\n",
        "        W1, b1, W2, b2 = update_params(W1, b1, W2, b2, dW1, db1, dW2, db2, alpha)\n",
        "        if i % 10 == 0:\n",
        "            print(\"Iteration: \", i)\n",
        "            predictions = get_predictions(A2)\n",
        "            print(get_accuracy(predictions, Y))\n",
        "    return W1, b1, W2, b2"
      ],
      "metadata": {
        "trusted": true,
        "execution": {
          "iopub.status.busy": "2025-04-11T21:06:42.812655Z",
          "iopub.execute_input": "2025-04-11T21:06:42.813084Z",
          "iopub.status.idle": "2025-04-11T21:06:42.832872Z",
          "shell.execute_reply.started": "2025-04-11T21:06:42.81304Z",
          "shell.execute_reply": "2025-04-11T21:06:42.83151Z"
        },
        "id": "TTqJPyuTry21"
      },
      "outputs": [],
      "execution_count": null
    },
    {
      "cell_type": "markdown",
      "source": [
        "This block defines the gradient descent update step.\n"
      ],
      "metadata": {
        "id": "6gw7NF67ry21"
      }
    },
    {
      "cell_type": "code",
      "source": [
        "W1, b1, W2, b2 = gradient_descent(X_train, Y_train, 0.10, 100)\n"
      ],
      "metadata": {
        "trusted": true,
        "execution": {
          "iopub.status.busy": "2025-04-11T21:06:42.834011Z",
          "iopub.execute_input": "2025-04-11T21:06:42.834405Z",
          "iopub.status.idle": "2025-04-11T21:06:52.002203Z",
          "shell.execute_reply.started": "2025-04-11T21:06:42.834364Z",
          "shell.execute_reply": "2025-04-11T21:06:52.001061Z"
        },
        "id": "bxBTLx5Vry21"
      },
      "outputs": [],
      "execution_count": null
    },
    {
      "cell_type": "markdown",
      "source": [
        "This block performs forward propagation. You will edit this later to change the activation function for the output layer.\n"
      ],
      "metadata": {
        "id": "9H6iA9Onry21"
      }
    },
    {
      "cell_type": "code",
      "source": [
        "def make_predictions(X, W1, b1, W2, b2):\n",
        "    _, _, _, A2 = forward_prop(W1, b1, W2, b2, X)\n",
        "    predictions = get_predictions(A2)\n",
        "    return predictions\n",
        "\n",
        "def test_prediction(index, W1, b1, W2, b2):\n",
        "    current_image = X_train[:, index, None]\n",
        "    prediction = make_predictions(X_train[:, index, None], W1, b1, W2, b2)\n",
        "    label = Y_train[index]\n",
        "    print(\"Prediction: \", prediction)\n",
        "    print(\"Label: \", label)\n",
        "\n",
        "    current_image = current_image.reshape((28, 28)) * 255\n",
        "    plt.gray()\n",
        "    plt.imshow(current_image, interpolation='nearest')\n",
        "    plt.show()"
      ],
      "metadata": {
        "trusted": true,
        "execution": {
          "iopub.status.busy": "2025-04-11T21:06:52.004488Z",
          "iopub.execute_input": "2025-04-11T21:06:52.004891Z",
          "iopub.status.idle": "2025-04-11T21:06:52.013017Z",
          "shell.execute_reply.started": "2025-04-11T21:06:52.004851Z",
          "shell.execute_reply": "2025-04-11T21:06:52.011856Z"
        },
        "id": "CI14HPQ2ry21"
      },
      "outputs": [],
      "execution_count": null
    },
    {
      "cell_type": "markdown",
      "source": [
        "This is a general code block. Follow any specific instructions in the comment section.\n"
      ],
      "metadata": {
        "id": "u9k_83Nlry22"
      }
    },
    {
      "cell_type": "code",
      "source": [
        "test_prediction(0, W1, b1, W2, b2)\n",
        "test_prediction(1, W1, b1, W2, b2)\n",
        "test_prediction(2, W1, b1, W2, b2)\n",
        "test_prediction(3, W1, b1, W2, b2)"
      ],
      "metadata": {
        "trusted": true,
        "execution": {
          "iopub.status.busy": "2025-04-11T21:06:52.014338Z",
          "iopub.execute_input": "2025-04-11T21:06:52.014626Z",
          "iopub.status.idle": "2025-04-11T21:06:52.782858Z",
          "shell.execute_reply.started": "2025-04-11T21:06:52.0146Z",
          "shell.execute_reply": "2025-04-11T21:06:52.781628Z"
        },
        "id": "15so_gQNry22"
      },
      "outputs": [],
      "execution_count": null
    }
  ]
}